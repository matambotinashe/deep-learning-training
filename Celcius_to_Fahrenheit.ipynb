{
  "cells": [
    {
      "cell_type": "markdown",
      "metadata": {
        "id": "view-in-github",
        "colab_type": "text"
      },
      "source": [
        "<a href=\"https://colab.research.google.com/github/matambotinashe/deep-learning-training/blob/intro-to-deep-learning-tensorflow/Celcius_to_Fahrenheit.ipynb\" target=\"_parent\"><img src=\"https://colab.research.google.com/assets/colab-badge.svg\" alt=\"Open In Colab\"/></a>"
      ]
    },
    {
      "cell_type": "markdown",
      "metadata": {
        "id": "HdZ8ZEnuda5J"
      },
      "source": [
        "# **Intro to tensorflow**\n",
        "- In this notebook will explore using tensor flow for conversation of degrees in celcius to fahrenheit.\n",
        "- Will be using tensor flow.\n",
        "## Libraries\n",
        "- Will 1st import libraries to be used in this notebook."
      ]
    },
    {
      "cell_type": "code",
      "execution_count": null,
      "metadata": {
        "id": "EDy5P_vrdPtH"
      },
      "outputs": [],
      "source": [
        "import numpy as np\n",
        "import tensorflow as tf"
      ]
    },
    {
      "cell_type": "markdown",
      "metadata": {
        "id": "VZbN2aSTd-5w"
      },
      "source": [
        "## Data\n",
        "- We will create array with data that will be using to train our model for the convertion."
      ]
    },
    {
      "cell_type": "code",
      "execution_count": null,
      "metadata": {
        "id": "fgaMWuNRd5cx"
      },
      "outputs": [],
      "source": [
        "celcius_data = np.array([-40, -10, 0, 8, 15, 22, 38], dtype = float)\n",
        "fahrenheit_data = np.array([-40, 14, 32, 46, 59, 72, 100], dtype = float)"
      ]
    },
    {
      "cell_type": "markdown",
      "metadata": {
        "id": "NcWaNv_hfAnO"
      },
      "source": [
        "## Model\n",
        "- Now will create a our model to train on the celcius data and the labels are the fahrenheit data.\n",
        "- This is going to be a simple dense layer."
      ]
    },
    {
      "cell_type": "code",
      "execution_count": null,
      "metadata": {
        "colab": {
          "background_save": true
        },
        "id": "kLte0yJ5ep6o"
      },
      "outputs": [],
      "source": [
        "model = tf.keras.layers.Des"
      ]
    }
  ],
  "metadata": {
    "colab": {
      "name": "Celcius to Fahrenheit.ipynb",
      "provenance": [],
      "authorship_tag": "ABX9TyP95+QDJ7FU9czo8WhLa9w+",
      "include_colab_link": true
    },
    "kernelspec": {
      "display_name": "Python 3",
      "name": "python3"
    },
    "language_info": {
      "name": "python"
    }
  },
  "nbformat": 4,
  "nbformat_minor": 0
}